{
 "cells": [
  {
   "cell_type": "code",
   "execution_count": 9,
   "metadata": {},
   "outputs": [
    {
     "name": "stdout",
     "output_type": "stream",
     "text": [
      "  Education  Experience (Years)  Experience (Months)  Connections  \\\n",
      "0        BS                   4                    3          395   \n",
      "1        BS                   1                    6          377   \n",
      "2        BS                   5                    6          153   \n",
      "3        BS                   0                    4          208   \n",
      "4       PhD                   8                    6          306   \n",
      "\n",
      "   Recent Post (Months Ago)  Reactions on Recent Post  \\\n",
      "0                         9                       491   \n",
      "1                         5                       372   \n",
      "2                        11                       145   \n",
      "3                         7                       524   \n",
      "4                         2                        23   \n",
      "\n",
      "   Comments on Recent Post  Repost Count on Recent Post Category  Score  \n",
      "0                       37                            1  Class C     24  \n",
      "1                      146                           14  Class C     27  \n",
      "2                      116                           12  Class C     20  \n",
      "3                      109                           17  Class C     28  \n",
      "4                      296                           15  Class B     42  \n"
     ]
    },
    {
     "data": {
      "text/plain": [
       "'synthetic_profiles_classified.csv'"
      ]
     },
     "execution_count": 9,
     "metadata": {},
     "output_type": "execute_result"
    }
   ],
   "source": [
    "import numpy as np\n",
    "import pandas as pd\n",
    "\n",
    "# Define the ranges and options for each feature\n",
    "profile_features = {\n",
    "    'Education': ['BS', 'MS', 'PhD'],  # Education levels\n",
    "    'Experience (Years)': [0, 10],  # Integer years\n",
    "    'Experience (Months)': [0, 11],  # Remaining months in a year\n",
    "    'Connections': [1, 500],  # Number of connections\n",
    "    'Recent Post (Months Ago)': [1, 12],  # Time since last post\n",
    "    'Reactions on Recent Post': [0, 1000],  # Number of reactions\n",
    "    'Comments on Recent Post': [10, 300],  # Number of comments\n",
    "    'Repost Count on Recent Post': [0, 20]  # Number of reposts\n",
    "}\n",
    "\n",
    "# Function to generate synthetic LinkedIn profiles\n",
    "def generate_synthetic_profiles(num_samples):\n",
    "    data = {\n",
    "        'Education': np.random.choice(profile_features['Education'], num_samples, p=[0.5, 0.3, 0.2]),\n",
    "        'Experience (Years)': np.random.randint(*profile_features['Experience (Years)'], num_samples),\n",
    "        'Experience (Months)': np.random.randint(*profile_features['Experience (Months)'], num_samples),\n",
    "        'Connections': np.random.randint(*profile_features['Connections'], num_samples),\n",
    "        'Recent Post (Months Ago)': np.random.randint(*profile_features['Recent Post (Months Ago)'], num_samples),\n",
    "        'Reactions on Recent Post': np.random.randint(*profile_features['Reactions on Recent Post'], num_samples),\n",
    "        'Comments on Recent Post': np.random.randint(*profile_features['Comments on Recent Post'], num_samples),\n",
    "        'Repost Count on Recent Post': np.random.randint(*profile_features['Repost Count on Recent Post'], num_samples)\n",
    "    }\n",
    "    return pd.DataFrame(data)\n",
    "\n",
    "# Function to classify profiles into Class A, B, or C\n",
    "# Function to classify profiles into Class A, B, or C\n",
    "def classify_profiles(df):\n",
    "    categories = []\n",
    "    scores = []  # To store scores for each profile\n",
    "    for _, row in df.iterrows():\n",
    "        score = 0\n",
    "        \n",
    "        # Scoring criteria for Education\n",
    "        if row['Education'] == 'PhD':\n",
    "            score += 10\n",
    "        elif row['Education'] == 'MS':\n",
    "            score += 6\n",
    "        elif row['Education'] == 'BS':\n",
    "            score += 3\n",
    "\n",
    "        # Scoring criteria for Experience\n",
    "        if row['Experience (Years)'] >= 10:\n",
    "            score += 10\n",
    "        elif row['Experience (Years)'] >= 5:\n",
    "            score += 7\n",
    "        elif row['Experience (Years)'] >= 2:\n",
    "            score += 3\n",
    "        else:\n",
    "            score += 0\n",
    "\n",
    "        # Scoring criteria for Connections\n",
    "        if row['Connections'] >= 400:\n",
    "            score += 10\n",
    "        elif row['Connections'] >= 200:\n",
    "            score += 7\n",
    "        elif row['Connections'] >= 50:\n",
    "            score += 1\n",
    "        else:\n",
    "            score += 0\n",
    "\n",
    "        # Scoring criteria for Recent Post (Months Ago)\n",
    "        if row['Recent Post (Months Ago)'] <= 1:\n",
    "            score += 10\n",
    "        elif row['Recent Post (Months Ago)'] <= 3:\n",
    "            score += 7\n",
    "        elif row['Recent Post (Months Ago)'] <= 6:\n",
    "            score += 1\n",
    "        else:\n",
    "            score += 0\n",
    "\n",
    "        # Scoring criteria for Reactions on Recent Post\n",
    "        if row['Reactions on Recent Post'] >= 500:\n",
    "            score += 10\n",
    "        elif row['Reactions on Recent Post'] >= 150:\n",
    "            score += 8\n",
    "        elif row['Reactions on Recent Post'] >= 20:\n",
    "            score += 1\n",
    "        else:\n",
    "            score += 0\n",
    "\n",
    "        # Scoring criteria for Comments on Recent Post\n",
    "        if row['Comments on Recent Post'] >= 200:\n",
    "            score += 10\n",
    "        elif row['Comments on Recent Post'] >= 80:\n",
    "            score += 8\n",
    "        elif row['Comments on Recent Post'] >= 20:\n",
    "            score += 3\n",
    "        else:\n",
    "            score += 0\n",
    "\n",
    "        # Assign categories based on total score\n",
    "        if score >= 45:  # Class A threshold\n",
    "            categories.append('Class A')\n",
    "        elif score >= 30:  # Class B threshold\n",
    "            categories.append('Class B')\n",
    "        elif score >= 15:  # Remaining are Class C\n",
    "            categories.append('Class C')\n",
    "        else:\n",
    "            categories.append('Class C')  # Default to Class C for very low scores\n",
    "\n",
    "        # Append score to scores list\n",
    "        scores.append(score)\n",
    "\n",
    "    # Add categories and scores to the DataFrame\n",
    "    df['Category'] = categories\n",
    "    df['Score'] = scores\n",
    "    return df\n",
    "\n",
    "# Generate synthetic LinkedIn profile data\n",
    "synthetic_profiles = generate_synthetic_profiles(500)\n",
    "\n",
    "# Classify the profiles\n",
    "classified_profiles = classify_profiles(synthetic_profiles)\n",
    "\n",
    "# Display the first few rows\n",
    "print(classified_profiles.head())\n",
    "\n",
    "# Save the dataset to a CSV file (optional)\n",
    "classified_profiles.to_csv('linkedin_profiles_with_categories.csv', index=False)\n",
    "\n",
    "output_file = \"synthetic_profiles_classified.csv\"\n",
    "classified_profiles.to_csv(output_file, index=False)\n",
    "\n",
    "output_file\n"
   ]
  },
  {
   "cell_type": "code",
   "execution_count": 4,
   "metadata": {},
   "outputs": [
    {
     "name": "stdout",
     "output_type": "stream",
     "text": [
      "<class 'pandas.core.frame.DataFrame'>\n",
      "Index: 28 entries, 0 to 492\n",
      "Data columns (total 10 columns):\n",
      " #   Column                       Non-Null Count  Dtype \n",
      "---  ------                       --------------  ----- \n",
      " 0   Education                    28 non-null     object\n",
      " 1   Experience (Years)           28 non-null     int64 \n",
      " 2   Experience (Months)          28 non-null     int64 \n",
      " 3   Connections                  28 non-null     int64 \n",
      " 4   Recent Post (Months Ago)     28 non-null     int64 \n",
      " 5   Reactions on Recent Post     28 non-null     int64 \n",
      " 6   Comments on Recent Post      28 non-null     int64 \n",
      " 7   Repost Count on Recent Post  28 non-null     int64 \n",
      " 8   Category                     28 non-null     object\n",
      " 9   Score                        28 non-null     int64 \n",
      "dtypes: int64(8), object(2)\n",
      "memory usage: 2.4+ KB\n"
     ]
    }
   ],
   "source": [
    "data = pd.read_csv('linkedin_profiles_with_categories.csv')\n",
    "data[data['Category']== 'Class A'].info()"
   ]
  },
  {
   "cell_type": "code",
   "execution_count": 5,
   "metadata": {},
   "outputs": [
    {
     "name": "stdout",
     "output_type": "stream",
     "text": [
      "<class 'pandas.core.frame.DataFrame'>\n",
      "Index: 306 entries, 5 to 499\n",
      "Data columns (total 10 columns):\n",
      " #   Column                       Non-Null Count  Dtype \n",
      "---  ------                       --------------  ----- \n",
      " 0   Education                    306 non-null    object\n",
      " 1   Experience (Years)           306 non-null    int64 \n",
      " 2   Experience (Months)          306 non-null    int64 \n",
      " 3   Connections                  306 non-null    int64 \n",
      " 4   Recent Post (Months Ago)     306 non-null    int64 \n",
      " 5   Reactions on Recent Post     306 non-null    int64 \n",
      " 6   Comments on Recent Post      306 non-null    int64 \n",
      " 7   Repost Count on Recent Post  306 non-null    int64 \n",
      " 8   Category                     306 non-null    object\n",
      " 9   Score                        306 non-null    int64 \n",
      "dtypes: int64(8), object(2)\n",
      "memory usage: 26.3+ KB\n"
     ]
    }
   ],
   "source": [
    "data[data['Category']== 'Class B'].info()"
   ]
  },
  {
   "cell_type": "code",
   "execution_count": 6,
   "metadata": {},
   "outputs": [
    {
     "name": "stdout",
     "output_type": "stream",
     "text": [
      "<class 'pandas.core.frame.DataFrame'>\n",
      "Index: 166 entries, 1 to 495\n",
      "Data columns (total 10 columns):\n",
      " #   Column                       Non-Null Count  Dtype \n",
      "---  ------                       --------------  ----- \n",
      " 0   Education                    166 non-null    object\n",
      " 1   Experience (Years)           166 non-null    int64 \n",
      " 2   Experience (Months)          166 non-null    int64 \n",
      " 3   Connections                  166 non-null    int64 \n",
      " 4   Recent Post (Months Ago)     166 non-null    int64 \n",
      " 5   Reactions on Recent Post     166 non-null    int64 \n",
      " 6   Comments on Recent Post      166 non-null    int64 \n",
      " 7   Repost Count on Recent Post  166 non-null    int64 \n",
      " 8   Category                     166 non-null    object\n",
      " 9   Score                        166 non-null    int64 \n",
      "dtypes: int64(8), object(2)\n",
      "memory usage: 14.3+ KB\n"
     ]
    }
   ],
   "source": [
    "data = pd.read_csv('linkedin_profiles_with_categories.csv')\n",
    "data[data['Category']== 'Class C'].info()"
   ]
  },
  {
   "cell_type": "code",
   "execution_count": 7,
   "metadata": {},
   "outputs": [
    {
     "data": {
      "text/plain": [
       "Education                        3\n",
       "Experience (Years)              10\n",
       "Experience (Months)             11\n",
       "Connections                    318\n",
       "Recent Post (Months Ago)        11\n",
       "Reactions on Recent Post       377\n",
       "Comments on Recent Post        236\n",
       "Repost Count on Recent Post     20\n",
       "Category                         3\n",
       "Score                           39\n",
       "dtype: int64"
      ]
     },
     "execution_count": 7,
     "metadata": {},
     "output_type": "execute_result"
    }
   ],
   "source": [
    "data.nunique()"
   ]
  },
  {
   "cell_type": "code",
   "execution_count": null,
   "metadata": {},
   "outputs": [],
   "source": []
  }
 ],
 "metadata": {
  "kernelspec": {
   "display_name": "Python 3",
   "language": "python",
   "name": "python3"
  },
  "language_info": {
   "codemirror_mode": {
    "name": "ipython",
    "version": 3
   },
   "file_extension": ".py",
   "mimetype": "text/x-python",
   "name": "python",
   "nbconvert_exporter": "python",
   "pygments_lexer": "ipython3",
   "version": "3.12.4"
  }
 },
 "nbformat": 4,
 "nbformat_minor": 2
}
