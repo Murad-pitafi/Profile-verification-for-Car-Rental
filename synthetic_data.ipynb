{
 "cells": [
  {
   "cell_type": "code",
   "execution_count": 1,
   "metadata": {},
   "outputs": [
    {
     "name": "stdout",
     "output_type": "stream",
     "text": [
      "  Education  Experience (Years)  Experience (Months)  Connections  \\\n",
      "0        MS                   5                    9           13   \n",
      "1        BS                   6                    1          109   \n",
      "2        MS                   0                    5          358   \n",
      "3       PhD                   5                    1            8   \n",
      "4       PhD                   7                    9          326   \n",
      "\n",
      "   Recent Post (Months Ago)  Reactions on Recent Post  \\\n",
      "0                         8                       492   \n",
      "1                         3                       515   \n",
      "2                         4                       932   \n",
      "3                         3                       915   \n",
      "4                         6                       941   \n",
      "\n",
      "   Comments on Recent Post  Repost Count on Recent Post Category  Score  \n",
      "0                      259                           10  Class B     31  \n",
      "1                       61                           16  Class B     31  \n",
      "2                      193                            0  Class B     32  \n",
      "3                      116                            0  Class B     42  \n",
      "4                      181                           14  Class B     43  \n"
     ]
    },
    {
     "ename": "OSError",
     "evalue": "Cannot save file into a non-existent directory: '\\mnt\\data'",
     "output_type": "error",
     "traceback": [
      "\u001b[1;31m---------------------------------------------------------------------------\u001b[0m",
      "\u001b[1;31mOSError\u001b[0m                                   Traceback (most recent call last)",
      "Cell \u001b[1;32mIn[1], line 127\u001b[0m\n\u001b[0;32m    124\u001b[0m classified_profiles\u001b[38;5;241m.\u001b[39mto_csv(\u001b[38;5;124m'\u001b[39m\u001b[38;5;124mlinkedin_profiles_with_categories.csv\u001b[39m\u001b[38;5;124m'\u001b[39m, index\u001b[38;5;241m=\u001b[39m\u001b[38;5;28;01mFalse\u001b[39;00m)\n\u001b[0;32m    126\u001b[0m output_file \u001b[38;5;241m=\u001b[39m \u001b[38;5;124m\"\u001b[39m\u001b[38;5;124m/mnt/data/synthetic_profiles_classified.csv\u001b[39m\u001b[38;5;124m\"\u001b[39m\n\u001b[1;32m--> 127\u001b[0m \u001b[43mclassified_profiles\u001b[49m\u001b[38;5;241;43m.\u001b[39;49m\u001b[43mto_csv\u001b[49m\u001b[43m(\u001b[49m\u001b[43moutput_file\u001b[49m\u001b[43m,\u001b[49m\u001b[43m \u001b[49m\u001b[43mindex\u001b[49m\u001b[38;5;241;43m=\u001b[39;49m\u001b[38;5;28;43;01mFalse\u001b[39;49;00m\u001b[43m)\u001b[49m\n\u001b[0;32m    129\u001b[0m output_file\n",
      "File \u001b[1;32mc:\\Users\\muham\\AppData\\Local\\Programs\\Python\\Python312\\Lib\\site-packages\\pandas\\util\\_decorators.py:333\u001b[0m, in \u001b[0;36mdeprecate_nonkeyword_arguments.<locals>.decorate.<locals>.wrapper\u001b[1;34m(*args, **kwargs)\u001b[0m\n\u001b[0;32m    327\u001b[0m \u001b[38;5;28;01mif\u001b[39;00m \u001b[38;5;28mlen\u001b[39m(args) \u001b[38;5;241m>\u001b[39m num_allow_args:\n\u001b[0;32m    328\u001b[0m     warnings\u001b[38;5;241m.\u001b[39mwarn(\n\u001b[0;32m    329\u001b[0m         msg\u001b[38;5;241m.\u001b[39mformat(arguments\u001b[38;5;241m=\u001b[39m_format_argument_list(allow_args)),\n\u001b[0;32m    330\u001b[0m         \u001b[38;5;167;01mFutureWarning\u001b[39;00m,\n\u001b[0;32m    331\u001b[0m         stacklevel\u001b[38;5;241m=\u001b[39mfind_stack_level(),\n\u001b[0;32m    332\u001b[0m     )\n\u001b[1;32m--> 333\u001b[0m \u001b[38;5;28;01mreturn\u001b[39;00m \u001b[43mfunc\u001b[49m\u001b[43m(\u001b[49m\u001b[38;5;241;43m*\u001b[39;49m\u001b[43margs\u001b[49m\u001b[43m,\u001b[49m\u001b[43m \u001b[49m\u001b[38;5;241;43m*\u001b[39;49m\u001b[38;5;241;43m*\u001b[39;49m\u001b[43mkwargs\u001b[49m\u001b[43m)\u001b[49m\n",
      "File \u001b[1;32mc:\\Users\\muham\\AppData\\Local\\Programs\\Python\\Python312\\Lib\\site-packages\\pandas\\core\\generic.py:3967\u001b[0m, in \u001b[0;36mNDFrame.to_csv\u001b[1;34m(self, path_or_buf, sep, na_rep, float_format, columns, header, index, index_label, mode, encoding, compression, quoting, quotechar, lineterminator, chunksize, date_format, doublequote, escapechar, decimal, errors, storage_options)\u001b[0m\n\u001b[0;32m   3956\u001b[0m df \u001b[38;5;241m=\u001b[39m \u001b[38;5;28mself\u001b[39m \u001b[38;5;28;01mif\u001b[39;00m \u001b[38;5;28misinstance\u001b[39m(\u001b[38;5;28mself\u001b[39m, ABCDataFrame) \u001b[38;5;28;01melse\u001b[39;00m \u001b[38;5;28mself\u001b[39m\u001b[38;5;241m.\u001b[39mto_frame()\n\u001b[0;32m   3958\u001b[0m formatter \u001b[38;5;241m=\u001b[39m DataFrameFormatter(\n\u001b[0;32m   3959\u001b[0m     frame\u001b[38;5;241m=\u001b[39mdf,\n\u001b[0;32m   3960\u001b[0m     header\u001b[38;5;241m=\u001b[39mheader,\n\u001b[1;32m   (...)\u001b[0m\n\u001b[0;32m   3964\u001b[0m     decimal\u001b[38;5;241m=\u001b[39mdecimal,\n\u001b[0;32m   3965\u001b[0m )\n\u001b[1;32m-> 3967\u001b[0m \u001b[38;5;28;01mreturn\u001b[39;00m \u001b[43mDataFrameRenderer\u001b[49m\u001b[43m(\u001b[49m\u001b[43mformatter\u001b[49m\u001b[43m)\u001b[49m\u001b[38;5;241;43m.\u001b[39;49m\u001b[43mto_csv\u001b[49m\u001b[43m(\u001b[49m\n\u001b[0;32m   3968\u001b[0m \u001b[43m    \u001b[49m\u001b[43mpath_or_buf\u001b[49m\u001b[43m,\u001b[49m\n\u001b[0;32m   3969\u001b[0m \u001b[43m    \u001b[49m\u001b[43mlineterminator\u001b[49m\u001b[38;5;241;43m=\u001b[39;49m\u001b[43mlineterminator\u001b[49m\u001b[43m,\u001b[49m\n\u001b[0;32m   3970\u001b[0m \u001b[43m    \u001b[49m\u001b[43msep\u001b[49m\u001b[38;5;241;43m=\u001b[39;49m\u001b[43msep\u001b[49m\u001b[43m,\u001b[49m\n\u001b[0;32m   3971\u001b[0m \u001b[43m    \u001b[49m\u001b[43mencoding\u001b[49m\u001b[38;5;241;43m=\u001b[39;49m\u001b[43mencoding\u001b[49m\u001b[43m,\u001b[49m\n\u001b[0;32m   3972\u001b[0m \u001b[43m    \u001b[49m\u001b[43merrors\u001b[49m\u001b[38;5;241;43m=\u001b[39;49m\u001b[43merrors\u001b[49m\u001b[43m,\u001b[49m\n\u001b[0;32m   3973\u001b[0m \u001b[43m    \u001b[49m\u001b[43mcompression\u001b[49m\u001b[38;5;241;43m=\u001b[39;49m\u001b[43mcompression\u001b[49m\u001b[43m,\u001b[49m\n\u001b[0;32m   3974\u001b[0m \u001b[43m    \u001b[49m\u001b[43mquoting\u001b[49m\u001b[38;5;241;43m=\u001b[39;49m\u001b[43mquoting\u001b[49m\u001b[43m,\u001b[49m\n\u001b[0;32m   3975\u001b[0m \u001b[43m    \u001b[49m\u001b[43mcolumns\u001b[49m\u001b[38;5;241;43m=\u001b[39;49m\u001b[43mcolumns\u001b[49m\u001b[43m,\u001b[49m\n\u001b[0;32m   3976\u001b[0m \u001b[43m    \u001b[49m\u001b[43mindex_label\u001b[49m\u001b[38;5;241;43m=\u001b[39;49m\u001b[43mindex_label\u001b[49m\u001b[43m,\u001b[49m\n\u001b[0;32m   3977\u001b[0m \u001b[43m    \u001b[49m\u001b[43mmode\u001b[49m\u001b[38;5;241;43m=\u001b[39;49m\u001b[43mmode\u001b[49m\u001b[43m,\u001b[49m\n\u001b[0;32m   3978\u001b[0m \u001b[43m    \u001b[49m\u001b[43mchunksize\u001b[49m\u001b[38;5;241;43m=\u001b[39;49m\u001b[43mchunksize\u001b[49m\u001b[43m,\u001b[49m\n\u001b[0;32m   3979\u001b[0m \u001b[43m    \u001b[49m\u001b[43mquotechar\u001b[49m\u001b[38;5;241;43m=\u001b[39;49m\u001b[43mquotechar\u001b[49m\u001b[43m,\u001b[49m\n\u001b[0;32m   3980\u001b[0m \u001b[43m    \u001b[49m\u001b[43mdate_format\u001b[49m\u001b[38;5;241;43m=\u001b[39;49m\u001b[43mdate_format\u001b[49m\u001b[43m,\u001b[49m\n\u001b[0;32m   3981\u001b[0m \u001b[43m    \u001b[49m\u001b[43mdoublequote\u001b[49m\u001b[38;5;241;43m=\u001b[39;49m\u001b[43mdoublequote\u001b[49m\u001b[43m,\u001b[49m\n\u001b[0;32m   3982\u001b[0m \u001b[43m    \u001b[49m\u001b[43mescapechar\u001b[49m\u001b[38;5;241;43m=\u001b[39;49m\u001b[43mescapechar\u001b[49m\u001b[43m,\u001b[49m\n\u001b[0;32m   3983\u001b[0m \u001b[43m    \u001b[49m\u001b[43mstorage_options\u001b[49m\u001b[38;5;241;43m=\u001b[39;49m\u001b[43mstorage_options\u001b[49m\u001b[43m,\u001b[49m\n\u001b[0;32m   3984\u001b[0m \u001b[43m\u001b[49m\u001b[43m)\u001b[49m\n",
      "File \u001b[1;32mc:\\Users\\muham\\AppData\\Local\\Programs\\Python\\Python312\\Lib\\site-packages\\pandas\\io\\formats\\format.py:1014\u001b[0m, in \u001b[0;36mDataFrameRenderer.to_csv\u001b[1;34m(self, path_or_buf, encoding, sep, columns, index_label, mode, compression, quoting, quotechar, lineterminator, chunksize, date_format, doublequote, escapechar, errors, storage_options)\u001b[0m\n\u001b[0;32m    993\u001b[0m     created_buffer \u001b[38;5;241m=\u001b[39m \u001b[38;5;28;01mFalse\u001b[39;00m\n\u001b[0;32m    995\u001b[0m csv_formatter \u001b[38;5;241m=\u001b[39m CSVFormatter(\n\u001b[0;32m    996\u001b[0m     path_or_buf\u001b[38;5;241m=\u001b[39mpath_or_buf,\n\u001b[0;32m    997\u001b[0m     lineterminator\u001b[38;5;241m=\u001b[39mlineterminator,\n\u001b[1;32m   (...)\u001b[0m\n\u001b[0;32m   1012\u001b[0m     formatter\u001b[38;5;241m=\u001b[39m\u001b[38;5;28mself\u001b[39m\u001b[38;5;241m.\u001b[39mfmt,\n\u001b[0;32m   1013\u001b[0m )\n\u001b[1;32m-> 1014\u001b[0m \u001b[43mcsv_formatter\u001b[49m\u001b[38;5;241;43m.\u001b[39;49m\u001b[43msave\u001b[49m\u001b[43m(\u001b[49m\u001b[43m)\u001b[49m\n\u001b[0;32m   1016\u001b[0m \u001b[38;5;28;01mif\u001b[39;00m created_buffer:\n\u001b[0;32m   1017\u001b[0m     \u001b[38;5;28;01massert\u001b[39;00m \u001b[38;5;28misinstance\u001b[39m(path_or_buf, StringIO)\n",
      "File \u001b[1;32mc:\\Users\\muham\\AppData\\Local\\Programs\\Python\\Python312\\Lib\\site-packages\\pandas\\io\\formats\\csvs.py:251\u001b[0m, in \u001b[0;36mCSVFormatter.save\u001b[1;34m(self)\u001b[0m\n\u001b[0;32m    247\u001b[0m \u001b[38;5;250m\u001b[39m\u001b[38;5;124;03m\"\"\"\u001b[39;00m\n\u001b[0;32m    248\u001b[0m \u001b[38;5;124;03mCreate the writer & save.\u001b[39;00m\n\u001b[0;32m    249\u001b[0m \u001b[38;5;124;03m\"\"\"\u001b[39;00m\n\u001b[0;32m    250\u001b[0m \u001b[38;5;66;03m# apply compression and byte/text conversion\u001b[39;00m\n\u001b[1;32m--> 251\u001b[0m \u001b[38;5;28;01mwith\u001b[39;00m \u001b[43mget_handle\u001b[49m\u001b[43m(\u001b[49m\n\u001b[0;32m    252\u001b[0m \u001b[43m    \u001b[49m\u001b[38;5;28;43mself\u001b[39;49m\u001b[38;5;241;43m.\u001b[39;49m\u001b[43mfilepath_or_buffer\u001b[49m\u001b[43m,\u001b[49m\n\u001b[0;32m    253\u001b[0m \u001b[43m    \u001b[49m\u001b[38;5;28;43mself\u001b[39;49m\u001b[38;5;241;43m.\u001b[39;49m\u001b[43mmode\u001b[49m\u001b[43m,\u001b[49m\n\u001b[0;32m    254\u001b[0m \u001b[43m    \u001b[49m\u001b[43mencoding\u001b[49m\u001b[38;5;241;43m=\u001b[39;49m\u001b[38;5;28;43mself\u001b[39;49m\u001b[38;5;241;43m.\u001b[39;49m\u001b[43mencoding\u001b[49m\u001b[43m,\u001b[49m\n\u001b[0;32m    255\u001b[0m \u001b[43m    \u001b[49m\u001b[43merrors\u001b[49m\u001b[38;5;241;43m=\u001b[39;49m\u001b[38;5;28;43mself\u001b[39;49m\u001b[38;5;241;43m.\u001b[39;49m\u001b[43merrors\u001b[49m\u001b[43m,\u001b[49m\n\u001b[0;32m    256\u001b[0m \u001b[43m    \u001b[49m\u001b[43mcompression\u001b[49m\u001b[38;5;241;43m=\u001b[39;49m\u001b[38;5;28;43mself\u001b[39;49m\u001b[38;5;241;43m.\u001b[39;49m\u001b[43mcompression\u001b[49m\u001b[43m,\u001b[49m\n\u001b[0;32m    257\u001b[0m \u001b[43m    \u001b[49m\u001b[43mstorage_options\u001b[49m\u001b[38;5;241;43m=\u001b[39;49m\u001b[38;5;28;43mself\u001b[39;49m\u001b[38;5;241;43m.\u001b[39;49m\u001b[43mstorage_options\u001b[49m\u001b[43m,\u001b[49m\n\u001b[0;32m    258\u001b[0m \u001b[43m\u001b[49m\u001b[43m)\u001b[49m \u001b[38;5;28;01mas\u001b[39;00m handles:\n\u001b[0;32m    259\u001b[0m     \u001b[38;5;66;03m# Note: self.encoding is irrelevant here\u001b[39;00m\n\u001b[0;32m    260\u001b[0m     \u001b[38;5;28mself\u001b[39m\u001b[38;5;241m.\u001b[39mwriter \u001b[38;5;241m=\u001b[39m csvlib\u001b[38;5;241m.\u001b[39mwriter(\n\u001b[0;32m    261\u001b[0m         handles\u001b[38;5;241m.\u001b[39mhandle,\n\u001b[0;32m    262\u001b[0m         lineterminator\u001b[38;5;241m=\u001b[39m\u001b[38;5;28mself\u001b[39m\u001b[38;5;241m.\u001b[39mlineterminator,\n\u001b[1;32m   (...)\u001b[0m\n\u001b[0;32m    267\u001b[0m         quotechar\u001b[38;5;241m=\u001b[39m\u001b[38;5;28mself\u001b[39m\u001b[38;5;241m.\u001b[39mquotechar,\n\u001b[0;32m    268\u001b[0m     )\n\u001b[0;32m    270\u001b[0m     \u001b[38;5;28mself\u001b[39m\u001b[38;5;241m.\u001b[39m_save()\n",
      "File \u001b[1;32mc:\\Users\\muham\\AppData\\Local\\Programs\\Python\\Python312\\Lib\\site-packages\\pandas\\io\\common.py:749\u001b[0m, in \u001b[0;36mget_handle\u001b[1;34m(path_or_buf, mode, encoding, compression, memory_map, is_text, errors, storage_options)\u001b[0m\n\u001b[0;32m    747\u001b[0m \u001b[38;5;66;03m# Only for write methods\u001b[39;00m\n\u001b[0;32m    748\u001b[0m \u001b[38;5;28;01mif\u001b[39;00m \u001b[38;5;124m\"\u001b[39m\u001b[38;5;124mr\u001b[39m\u001b[38;5;124m\"\u001b[39m \u001b[38;5;129;01mnot\u001b[39;00m \u001b[38;5;129;01min\u001b[39;00m mode \u001b[38;5;129;01mand\u001b[39;00m is_path:\n\u001b[1;32m--> 749\u001b[0m     \u001b[43mcheck_parent_directory\u001b[49m\u001b[43m(\u001b[49m\u001b[38;5;28;43mstr\u001b[39;49m\u001b[43m(\u001b[49m\u001b[43mhandle\u001b[49m\u001b[43m)\u001b[49m\u001b[43m)\u001b[49m\n\u001b[0;32m    751\u001b[0m \u001b[38;5;28;01mif\u001b[39;00m compression:\n\u001b[0;32m    752\u001b[0m     \u001b[38;5;28;01mif\u001b[39;00m compression \u001b[38;5;241m!=\u001b[39m \u001b[38;5;124m\"\u001b[39m\u001b[38;5;124mzstd\u001b[39m\u001b[38;5;124m\"\u001b[39m:\n\u001b[0;32m    753\u001b[0m         \u001b[38;5;66;03m# compression libraries do not like an explicit text-mode\u001b[39;00m\n",
      "File \u001b[1;32mc:\\Users\\muham\\AppData\\Local\\Programs\\Python\\Python312\\Lib\\site-packages\\pandas\\io\\common.py:616\u001b[0m, in \u001b[0;36mcheck_parent_directory\u001b[1;34m(path)\u001b[0m\n\u001b[0;32m    614\u001b[0m parent \u001b[38;5;241m=\u001b[39m Path(path)\u001b[38;5;241m.\u001b[39mparent\n\u001b[0;32m    615\u001b[0m \u001b[38;5;28;01mif\u001b[39;00m \u001b[38;5;129;01mnot\u001b[39;00m parent\u001b[38;5;241m.\u001b[39mis_dir():\n\u001b[1;32m--> 616\u001b[0m     \u001b[38;5;28;01mraise\u001b[39;00m \u001b[38;5;167;01mOSError\u001b[39;00m(\u001b[38;5;124mrf\u001b[39m\u001b[38;5;124m\"\u001b[39m\u001b[38;5;124mCannot save file into a non-existent directory: \u001b[39m\u001b[38;5;124m'\u001b[39m\u001b[38;5;132;01m{\u001b[39;00mparent\u001b[38;5;132;01m}\u001b[39;00m\u001b[38;5;124m'\u001b[39m\u001b[38;5;124m\"\u001b[39m)\n",
      "\u001b[1;31mOSError\u001b[0m: Cannot save file into a non-existent directory: '\\mnt\\data'"
     ]
    }
   ],
   "source": [
    "import numpy as np\n",
    "import pandas as pd\n",
    "\n",
    "# Define the ranges and options for each feature\n",
    "profile_features = {\n",
    "    'Education': ['BS', 'MS', 'PhD'],  # Education levels\n",
    "    'Experience (Years)': [0, 10],  # Integer years\n",
    "    'Experience (Months)': [0, 11],  # Remaining months in a year\n",
    "    'Connections': [1, 500],  # Number of connections\n",
    "    'Recent Post (Months Ago)': [1, 12],  # Time since last post\n",
    "    'Reactions on Recent Post': [0, 1000],  # Number of reactions\n",
    "    'Comments on Recent Post': [10, 300],  # Number of comments\n",
    "    'Repost Count on Recent Post': [0, 20]  # Number of reposts\n",
    "}\n",
    "\n",
    "# Function to generate synthetic LinkedIn profiles\n",
    "def generate_synthetic_profiles(num_samples):\n",
    "    data = {\n",
    "        'Education': np.random.choice(profile_features['Education'], num_samples, p=[0.5, 0.3, 0.2]),\n",
    "        'Experience (Years)': np.random.randint(*profile_features['Experience (Years)'], num_samples),\n",
    "        'Experience (Months)': np.random.randint(*profile_features['Experience (Months)'], num_samples),\n",
    "        'Connections': np.random.randint(*profile_features['Connections'], num_samples),\n",
    "        'Recent Post (Months Ago)': np.random.randint(*profile_features['Recent Post (Months Ago)'], num_samples),\n",
    "        'Reactions on Recent Post': np.random.randint(*profile_features['Reactions on Recent Post'], num_samples),\n",
    "        'Comments on Recent Post': np.random.randint(*profile_features['Comments on Recent Post'], num_samples),\n",
    "        'Repost Count on Recent Post': np.random.randint(*profile_features['Repost Count on Recent Post'], num_samples)\n",
    "    }\n",
    "    return pd.DataFrame(data)\n",
    "\n",
    "# Function to classify profiles into Class A, B, or C\n",
    "# Function to classify profiles into Class A, B, or C\n",
    "def classify_profiles(df):\n",
    "    categories = []\n",
    "    scores = []  # To store scores for each profile\n",
    "    for _, row in df.iterrows():\n",
    "        score = 0\n",
    "        \n",
    "        # Scoring criteria for Education\n",
    "        if row['Education'] == 'PhD':\n",
    "            score += 10\n",
    "        elif row['Education'] == 'MS':\n",
    "            score += 6\n",
    "        elif row['Education'] == 'BS':\n",
    "            score += 3\n",
    "\n",
    "        # Scoring criteria for Experience\n",
    "        if row['Experience (Years)'] >= 10:\n",
    "            score += 10\n",
    "        elif row['Experience (Years)'] >= 5:\n",
    "            score += 7\n",
    "        elif row['Experience (Years)'] >= 2:\n",
    "            score += 3\n",
    "        else:\n",
    "            score += 0\n",
    "\n",
    "        # Scoring criteria for Connections\n",
    "        if row['Connections'] >= 400:\n",
    "            score += 10\n",
    "        elif row['Connections'] >= 200:\n",
    "            score += 7\n",
    "        elif row['Connections'] >= 50:\n",
    "            score += 1\n",
    "        else:\n",
    "            score += 0\n",
    "\n",
    "        # Scoring criteria for Recent Post (Months Ago)\n",
    "        if row['Recent Post (Months Ago)'] <= 1:\n",
    "            score += 10\n",
    "        elif row['Recent Post (Months Ago)'] <= 3:\n",
    "            score += 7\n",
    "        elif row['Recent Post (Months Ago)'] <= 6:\n",
    "            score += 1\n",
    "        else:\n",
    "            score += 0\n",
    "\n",
    "        # Scoring criteria for Reactions on Recent Post\n",
    "        if row['Reactions on Recent Post'] >= 500:\n",
    "            score += 10\n",
    "        elif row['Reactions on Recent Post'] >= 150:\n",
    "            score += 8\n",
    "        elif row['Reactions on Recent Post'] >= 20:\n",
    "            score += 1\n",
    "        else:\n",
    "            score += 0\n",
    "\n",
    "        # Scoring criteria for Comments on Recent Post\n",
    "        if row['Comments on Recent Post'] >= 200:\n",
    "            score += 10\n",
    "        elif row['Comments on Recent Post'] >= 80:\n",
    "            score += 8\n",
    "        elif row['Comments on Recent Post'] >= 20:\n",
    "            score += 3\n",
    "        else:\n",
    "            score += 0\n",
    "\n",
    "        # Assign categories based on total score\n",
    "        if score >= 45:  # Class A threshold\n",
    "            categories.append('Class A')\n",
    "        elif score >= 30:  # Class B threshold\n",
    "            categories.append('Class B')\n",
    "        elif score >= 15:  # Remaining are Class C\n",
    "            categories.append('Class C')\n",
    "        else:\n",
    "            categories.append('Class C')  # Default to Class C for very low scores\n",
    "\n",
    "        # Append score to scores list\n",
    "        scores.append(score)\n",
    "\n",
    "    # Add categories and scores to the DataFrame\n",
    "    df['Category'] = categories\n",
    "    df['Score'] = scores\n",
    "    return df\n",
    "\n",
    "# Generate synthetic LinkedIn profile data\n",
    "synthetic_profiles = generate_synthetic_profiles(500)\n",
    "\n",
    "# Classify the profiles\n",
    "classified_profiles = classify_profiles(synthetic_profiles)\n",
    "\n",
    "# Display the first few rows\n",
    "print(classified_profiles.head())\n",
    "\n",
    "# Save the dataset to a CSV file (optional)\n",
    "classified_profiles.to_csv('linkedin_profiles_with_categories.csv', index=False)\n",
    "\n",
    "output_file = \"/mnt/data/synthetic_profiles_classified.csv\"\n",
    "classified_profiles.to_csv(output_file, index=False)\n",
    "\n",
    "output_file\n"
   ]
  },
  {
   "cell_type": "code",
   "execution_count": 104,
   "metadata": {},
   "outputs": [
    {
     "name": "stdout",
     "output_type": "stream",
     "text": [
      "<class 'pandas.core.frame.DataFrame'>\n",
      "Index: 30 entries, 0 to 484\n",
      "Data columns (total 10 columns):\n",
      " #   Column                       Non-Null Count  Dtype \n",
      "---  ------                       --------------  ----- \n",
      " 0   Education                    30 non-null     object\n",
      " 1   Experience (Years)           30 non-null     int64 \n",
      " 2   Experience (Months)          30 non-null     int64 \n",
      " 3   Connections                  30 non-null     int64 \n",
      " 4   Recent Post (Months Ago)     30 non-null     int64 \n",
      " 5   Reactions on Recent Post     30 non-null     int64 \n",
      " 6   Comments on Recent Post      30 non-null     int64 \n",
      " 7   Repost Count on Recent Post  30 non-null     int64 \n",
      " 8   Category                     30 non-null     object\n",
      " 9   Score                        30 non-null     int64 \n",
      "dtypes: int64(8), object(2)\n",
      "memory usage: 2.6+ KB\n"
     ]
    }
   ],
   "source": [
    "data = pd.read_csv('linkedin_profiles_with_categories.csv')\n",
    "data[data['Category']== 'Class A'].info()"
   ]
  },
  {
   "cell_type": "code",
   "execution_count": 105,
   "metadata": {},
   "outputs": [
    {
     "name": "stdout",
     "output_type": "stream",
     "text": [
      "<class 'pandas.core.frame.DataFrame'>\n",
      "Index: 305 entries, 1 to 498\n",
      "Data columns (total 10 columns):\n",
      " #   Column                       Non-Null Count  Dtype \n",
      "---  ------                       --------------  ----- \n",
      " 0   Education                    305 non-null    object\n",
      " 1   Experience (Years)           305 non-null    int64 \n",
      " 2   Experience (Months)          305 non-null    int64 \n",
      " 3   Connections                  305 non-null    int64 \n",
      " 4   Recent Post (Months Ago)     305 non-null    int64 \n",
      " 5   Reactions on Recent Post     305 non-null    int64 \n",
      " 6   Comments on Recent Post      305 non-null    int64 \n",
      " 7   Repost Count on Recent Post  305 non-null    int64 \n",
      " 8   Category                     305 non-null    object\n",
      " 9   Score                        305 non-null    int64 \n",
      "dtypes: int64(8), object(2)\n",
      "memory usage: 26.2+ KB\n"
     ]
    }
   ],
   "source": [
    "data[data['Category']== 'Class B'].info()"
   ]
  },
  {
   "cell_type": "code",
   "execution_count": 106,
   "metadata": {},
   "outputs": [
    {
     "name": "stdout",
     "output_type": "stream",
     "text": [
      "<class 'pandas.core.frame.DataFrame'>\n",
      "Index: 165 entries, 7 to 499\n",
      "Data columns (total 10 columns):\n",
      " #   Column                       Non-Null Count  Dtype \n",
      "---  ------                       --------------  ----- \n",
      " 0   Education                    165 non-null    object\n",
      " 1   Experience (Years)           165 non-null    int64 \n",
      " 2   Experience (Months)          165 non-null    int64 \n",
      " 3   Connections                  165 non-null    int64 \n",
      " 4   Recent Post (Months Ago)     165 non-null    int64 \n",
      " 5   Reactions on Recent Post     165 non-null    int64 \n",
      " 6   Comments on Recent Post      165 non-null    int64 \n",
      " 7   Repost Count on Recent Post  165 non-null    int64 \n",
      " 8   Category                     165 non-null    object\n",
      " 9   Score                        165 non-null    int64 \n",
      "dtypes: int64(8), object(2)\n",
      "memory usage: 14.2+ KB\n"
     ]
    }
   ],
   "source": [
    "data = pd.read_csv('linkedin_profiles_with_categories.csv')\n",
    "data[data['Category']== 'Class C'].info()"
   ]
  },
  {
   "cell_type": "code",
   "execution_count": 107,
   "metadata": {},
   "outputs": [
    {
     "data": {
      "text/plain": [
       "Education                        3\n",
       "Experience (Years)              10\n",
       "Experience (Months)             11\n",
       "Connections                    323\n",
       "Recent Post (Months Ago)        11\n",
       "Reactions on Recent Post       386\n",
       "Comments on Recent Post        222\n",
       "Repost Count on Recent Post     20\n",
       "Category                         3\n",
       "Score                           42\n",
       "dtype: int64"
      ]
     },
     "execution_count": 107,
     "metadata": {},
     "output_type": "execute_result"
    }
   ],
   "source": [
    "data.nunique()"
   ]
  },
  {
   "cell_type": "code",
   "execution_count": null,
   "metadata": {},
   "outputs": [],
   "source": []
  }
 ],
 "metadata": {
  "kernelspec": {
   "display_name": "Python 3",
   "language": "python",
   "name": "python3"
  },
  "language_info": {
   "codemirror_mode": {
    "name": "ipython",
    "version": 3
   },
   "file_extension": ".py",
   "mimetype": "text/x-python",
   "name": "python",
   "nbconvert_exporter": "python",
   "pygments_lexer": "ipython3",
   "version": "3.12.6"
  }
 },
 "nbformat": 4,
 "nbformat_minor": 2
}
